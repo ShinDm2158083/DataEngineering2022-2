{
 "cells": [
  {
   "cell_type": "code",
   "execution_count": 1,
   "id": "9d80d111-0954-4a6e-8db8-7ece3ce03e95",
   "metadata": {},
   "outputs": [],
   "source": [
    "#202158083 과제1\n",
    "\n",
    "#러블리 러브시트 설명과 가격 저장\n",
    "lovely_loveseat_description = \"Lovely Loveseat. Tufted polyester blend on wood. 32 inches high x 40 inches wide x 30 inches deep. Red or white. \"\n",
    "lovely_loveseat_price = 254.00"
   ]
  },
  {
   "cell_type": "code",
   "execution_count": 2,
   "id": "182eefa9-be60-4911-8c35-ac350f6331d7",
   "metadata": {},
   "outputs": [],
   "source": [
    "#스타일리시 세티 설명과 가격\n",
    "stylish_settee_description = \"Stylish Settee. Faux leather on birch. 29.50 inches high x 54.75 inches wide x 28 inches deep. Black. \"\n",
    "stylish_settee_price = 180.50"
   ]
  },
  {
   "cell_type": "code",
   "execution_count": 3,
   "id": "87978c66-7a14-46f4-8780-deffa43d98cb",
   "metadata": {},
   "outputs": [],
   "source": [
    "#럭셔리 램프 설명과 가격\n",
    "luxurious_lamp_description = \"Luxurious Lamp. Glass and iron. 36 inches tall. Brown with cream shade. \"\n",
    "luxurious_lamp_price = 52.15"
   ]
  },
  {
   "cell_type": "code",
   "execution_count": 4,
   "id": "a976d10b-2a9d-42dc-b036-fad862ee2aa5",
   "metadata": {},
   "outputs": [],
   "source": [
    "#판매세 8.8%\n",
    "sales_tax = .088"
   ]
  },
  {
   "cell_type": "code",
   "execution_count": 5,
   "id": "532b25b4-b1fd-45ec-84dd-0e27fa929c93",
   "metadata": {},
   "outputs": [],
   "source": [
    "#첫 손님의 총 지불금액과 구매 아이템들 목록\n",
    "customer_one_total = 0\n",
    "customer_one_itemization = \"\""
   ]
  },
  {
   "cell_type": "code",
   "execution_count": 6,
   "id": "3b1a701f-416d-4a72-89cc-0b4317df05af",
   "metadata": {},
   "outputs": [],
   "source": [
    "#첫 손님이 러블리 러브시트와 럭셔리 램프 선택\n",
    "customer_one_total+=lovely_loveseat_price\n",
    "customer_one_itemization += lovely_loveseat_description\n",
    "customer_one_total+=luxurious_lamp_price\n",
    "customer_one_itemization+=luxurious_lamp_description"
   ]
  },
  {
   "cell_type": "code",
   "execution_count": 7,
   "id": "326e3cdc-7aed-43bb-a5cf-54c41fc02948",
   "metadata": {},
   "outputs": [],
   "source": [
    "#판매세를 더해 최종 지불 금액 나옴\n",
    "customer_one_tax = sales_tax * customer_one_total\n",
    "customer_one_total+=customer_one_tax"
   ]
  },
  {
   "cell_type": "code",
   "execution_count": 8,
   "id": "875011c6-2bcf-4b1a-8ad2-97ae84a5195c",
   "metadata": {},
   "outputs": [
    {
     "name": "stdout",
     "output_type": "stream",
     "text": [
      "Customer One Items:\n",
      "Lovely Loveseat. Tufted polyester blend on wood. 32 inches high x 40 inches wide x 30 inches deep. Red or white. Luxurious Lamp. Glass and iron. 36 inches tall. Brown with cream shade. \n",
      "Customer One Total:\n",
      "333.09119999999996\n"
     ]
    }
   ],
   "source": [
    "#첫 손님이 구매한 물건들과 총 지불 금액 표시\n",
    "print(\"Customer One Items:\")\n",
    "print(customer_one_itemization)\n",
    "print(\"Customer One Total:\")\n",
    "print(customer_one_total)"
   ]
  },
  {
   "cell_type": "code",
   "execution_count": null,
   "id": "7f8bf0b9-6947-41d2-b712-8d7cf4e901d1",
   "metadata": {},
   "outputs": [],
   "source": []
  }
 ],
 "metadata": {
  "kernelspec": {
   "display_name": "Python 3 (ipykernel)",
   "language": "python",
   "name": "python3"
  },
  "language_info": {
   "codemirror_mode": {
    "name": "ipython",
    "version": 3
   },
   "file_extension": ".py",
   "mimetype": "text/x-python",
   "name": "python",
   "nbconvert_exporter": "python",
   "pygments_lexer": "ipython3",
   "version": "3.9.12"
  }
 },
 "nbformat": 4,
 "nbformat_minor": 5
}
