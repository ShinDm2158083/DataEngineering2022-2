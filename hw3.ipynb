{
 "cells": [
  {
   "cell_type": "code",
   "execution_count": null,
   "id": "27861a46-a5b6-4bc2-8581-34bd19de9edf",
   "metadata": {},
   "outputs": [],
   "source": [
    "#Carly's Clippers"
   ]
  },
  {
   "cell_type": "code",
   "execution_count": 2,
   "id": "5d33fad1-1201-4b5b-bd27-04bc87d7dfa4",
   "metadata": {},
   "outputs": [],
   "source": [
    "import numpy as np\n",
    "\n",
    "#헤어스타일, 가격, 저번 주 이용된 헤어스타일-numpy배열 작성\n",
    "hairstyles = np.array([\"bouffant\", \"pixie\", \"dreadlocks\", \"crew\", \"bowl\", \"bob\", \"mohawk\", \"flattop\"])\n",
    "prices = np.array([30, 25, 40, 20, 20, 35, 50, 35])\n",
    "last_week = np.array([2, 3, 5, 8, 4, 4, 6, 2])"
   ]
  },
  {
   "cell_type": "code",
   "execution_count": 3,
   "id": "bf844bb8-e8cf-4117-a25d-0e3447e076fe",
   "metadata": {},
   "outputs": [
    {
     "name": "stdout",
     "output_type": "stream",
     "text": [
      "Average price is 31.875\n"
     ]
    }
   ],
   "source": [
    "#총 가격 변수에 가격 배열의 모든 요소 더하기\n",
    "total_price = 0;\n",
    "for price in prices:\n",
    "    total_price+=price\n",
    "\n",
    "#평균가 구하고 출력\n",
    "average_price = total_price/len(prices)\n",
    "print(f'Average price is {average_price}')"
   ]
  },
  {
   "cell_type": "code",
   "execution_count": 4,
   "id": "09a1140d-f041-4950-9fd0-68de092e37fd",
   "metadata": {},
   "outputs": [
    {
     "name": "stdout",
     "output_type": "stream",
     "text": [
      "[25 20 35 15 15 30 45 30]\n"
     ]
    }
   ],
   "source": [
    "#모든 가격을 -5해서 표시\n",
    "new_prices = prices-5\n",
    "print(new_prices)"
   ]
  },
  {
   "cell_type": "code",
   "execution_count": 6,
   "id": "d4a0f4a2-6520-45a9-ad05-1dfcecafeed0",
   "metadata": {},
   "outputs": [
    {
     "name": "stdout",
     "output_type": "stream",
     "text": [
      "1085\n",
      "Average daily revenue is 155.0\n"
     ]
    }
   ],
   "source": [
    "#총 수익 구해서 출력\n",
    "total_revenue = 0\n",
    "for i in range(len(hairstyles)):\n",
    "    total_revenue += prices[i]*last_week[i]\n",
    "    \n",
    "print(total_revenue)\n",
    "\n",
    "#일당 평균 수익 구해서 출력\n",
    "average_daily_revenue = total_revenue/7\n",
    "print(f'Average daily revenue is {average_daily_revenue}')"
   ]
  },
  {
   "cell_type": "code",
   "execution_count": 12,
   "id": "3c8d29b5-82e9-4a8b-aa0b-31ab15173f28",
   "metadata": {},
   "outputs": [
    {
     "name": "stdout",
     "output_type": "stream",
     "text": [
      "['bouffant' 'pixie' 'crew' 'bowl']\n"
     ]
    }
   ],
   "source": [
    "#갸격 30이하의 헤어스타일 구해서 출력\n",
    "cuts_under_30 = np.array([hairstyles[i] for i in range(len(hairstyles)) if prices[i]<=30 ])\n",
    "print(cuts_under_30)"
   ]
  },
  {
   "cell_type": "code",
   "execution_count": null,
   "id": "7d4e52d4-6e46-4eb7-a53f-70d6826f4656",
   "metadata": {},
   "outputs": [],
   "source": []
  }
 ],
 "metadata": {
  "kernelspec": {
   "display_name": "Python 3 (ipykernel)",
   "language": "python",
   "name": "python3"
  },
  "language_info": {
   "codemirror_mode": {
    "name": "ipython",
    "version": 3
   },
   "file_extension": ".py",
   "mimetype": "text/x-python",
   "name": "python",
   "nbconvert_exporter": "python",
   "pygments_lexer": "ipython3",
   "version": "3.9.12"
  }
 },
 "nbformat": 4,
 "nbformat_minor": 5
}
