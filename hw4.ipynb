{
 "cells": [
  {
   "cell_type": "code",
   "execution_count": null,
   "id": "822ffb77-d808-4ca9-83e9-4db87df96c14",
   "metadata": {},
   "outputs": [],
   "source": [
    "#나의 조선시대 이름 찾기"
   ]
  },
  {
   "cell_type": "code",
   "execution_count": 4,
   "id": "cbad638a-d5ae-4289-9c88-02c7e4171bdf",
   "metadata": {},
   "outputs": [],
   "source": [
    "#태어난 달에 해당되는 이름의 첫번째 글자를 위한 리스트 생성\n",
    "months_char = ['쌍', '쇠', '복', '돌', '팽', '육', '쌍', '개', '칠', '갑', '삼', '방']"
   ]
  },
  {
   "cell_type": "code",
   "execution_count": 5,
   "id": "bdc7054f-18a3-4d47-88b5-ef1d77961e89",
   "metadata": {},
   "outputs": [],
   "source": [
    "#태어난 날짜에 해당되는 이름의 두번째 글자를 구하기 위한 리스트 생성\n",
    "days_char = ['봉', '구', '욕', '포', '똥', '삼', '식', '석', '놈', '님', '년', '돌', '단', '득', '방', '질', '장', '걸', '래', '룡', '동', '순', '자', '박', '창', '언', '것', '포', '만', '단', '국']"
   ]
  },
  {
   "cell_type": "code",
   "execution_count": 7,
   "id": "9c16e788-8a9d-467e-a612-ffd3a5495324",
   "metadata": {},
   "outputs": [
    {
     "name": "stdout",
     "output_type": "stream",
     "text": [
      "당신의 조선시대 이름은 신돌구 입니다.\n"
     ]
    }
   ],
   "source": [
    "#나의 조선시대 이름을 문자열로 반환하는 함수\n",
    "def get_my_chosun_name(family_name,month,day):\n",
    "    return f'당신의 조선시대 이름은 {family_name}{months_char[month-1]}{days_char[day-1]} 입니다.'\n",
    "\n",
    "#family_name='신', month=4, day=2에 대한 조선시대 이름 출력\n",
    "print(get_my_chosun_name('신',4,2))"
   ]
  },
  {
   "cell_type": "code",
   "execution_count": null,
   "id": "77f3827a-94ab-46d3-ad1d-a5b8dea37b6c",
   "metadata": {},
   "outputs": [],
   "source": []
  }
 ],
 "metadata": {
  "kernelspec": {
   "display_name": "Python 3 (ipykernel)",
   "language": "python",
   "name": "python3"
  },
  "language_info": {
   "codemirror_mode": {
    "name": "ipython",
    "version": 3
   },
   "file_extension": ".py",
   "mimetype": "text/x-python",
   "name": "python",
   "nbconvert_exporter": "python",
   "pygments_lexer": "ipython3",
   "version": "3.9.12"
  }
 },
 "nbformat": 4,
 "nbformat_minor": 5
}
